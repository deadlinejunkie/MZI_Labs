{
 "cells": [
  {
   "cell_type": "code",
   "execution_count": 3,
   "metadata": {},
   "outputs": [],
   "source": [
    "from hashlib import sha1\n",
    "\n",
    "trans_5C = bytes((x ^ 0x5C) for x in range(256))\n",
    "trans_36 = bytes((x ^ 0x36) for x in range(256))\n",
    "\n",
    "digest_size = None\n",
    "\n",
    "class HMAC:\n",
    "    blocksize = 64  # 512-bit HMAC; can be changed in subclasses.\n",
    "\n",
    "    def __init__(self, key, msg=None, digestmod=''):\n",
    "        if not isinstance(key, (bytes, bytearray)):\n",
    "            raise TypeError(\"key: expected bytes or bytearray, but got %r\" % type(key).__name__)\n",
    "\n",
    "        if not digestmod:\n",
    "            raise TypeError(\"Missing required parameter 'digestmod'.\")\n",
    "\n",
    "        self.digest_cons = digestmod\n",
    "        self.outer = self.digest_cons()\n",
    "        self.inner = self.digest_cons()\n",
    "        self.digest_size = self.inner.digest_size\n",
    "\n",
    "        blocksize = self.inner.block_size\n",
    "\n",
    "        self.block_size = blocksize\n",
    "\n",
    "        if len(key) > blocksize:\n",
    "            key = self.digest_cons(key).digest()\n",
    "\n",
    "        key = key.ljust(blocksize, b'\\0')\n",
    "        self.outer.update(key.translate(trans_5C))\n",
    "        self.inner.update(key.translate(trans_36))\n",
    "        if msg is not None:\n",
    "            self.update(msg)\n",
    "\n",
    "    def update(self, msg):\n",
    "        self.inner.update(msg)\n",
    "\n",
    "    def _current(self):\n",
    "        h = self.outer.copy()\n",
    "        h.update(self.inner.digest())\n",
    "        return h\n",
    "\n",
    "    def digest(self):\n",
    "        h = self._current()\n",
    "        return h.digest()\n",
    "\n",
    "    def hexdigest(self):\n",
    "        h = self._current()\n",
    "        return h.hexdigest()\n",
    "\n",
    "def hmac(key, msg=None, digestmod=''):\n",
    "    return HMAC(key, msg, digestmod)"
   ]
  },
  {
   "cell_type": "code",
   "execution_count": null,
   "metadata": {},
   "outputs": [],
   "source": []
  }
 ],
 "metadata": {
  "kernelspec": {
   "display_name": "Python 3",
   "language": "python",
   "name": "python3"
  },
  "language_info": {
   "codemirror_mode": {
    "name": "ipython",
    "version": 3
   },
   "file_extension": ".py",
   "mimetype": "text/x-python",
   "name": "python",
   "nbconvert_exporter": "python",
   "pygments_lexer": "ipython3",
   "version": "3.7.4"
  }
 },
 "nbformat": 4,
 "nbformat_minor": 2
}
